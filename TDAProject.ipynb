{
 "cells": [
  {
   "cell_type": "markdown",
   "metadata": {},
   "source": [
    "Application of TDA in Cosmology\n",
    "Esteban\n",
    "Kevin\n",
    "Franklin"
   ]
  },
  {
   "cell_type": "code",
   "execution_count": 1,
   "metadata": {},
   "outputs": [],
   "source": [
    "import dionysus as d\n",
    "import pandas as pd\n",
    "import numpy as np\n",
    "import matplotlib.pyplot as plt\n",
    "from tqdm import tqdm\n",
    "from astropy.io import fits\n",
    "from astropy.visualization import astropy_mpl_style\n",
    "from astropy.utils.data import get_pkg_data_filename\n",
    "\n",
    "plt.style.use(astropy_mpl_style)"
   ]
  },
  {
   "cell_type": "code",
   "execution_count": 2,
   "metadata": {},
   "outputs": [
    {
     "name": "stderr",
     "output_type": "stream",
     "text": [
      "  0%|          | 1488/3145727 [00:00<03:31, 14873.81it/s]"
     ]
    },
    {
     "name": "stdout",
     "output_type": "stream",
     "text": [
      "[(2.2998378, 3074.1948) (2.9589684, 3126.1853) (1.6670746, 3130.274 )\n",
      " (1.7374254, 3113.7168) (2.318041 , 3137.191 )]\n"
     ]
    },
    {
     "name": "stderr",
     "output_type": "stream",
     "text": [
      "100%|██████████| 3145727/3145727 [03:51<00:00, 13567.26it/s]\n"
     ]
    }
   ],
   "source": [
    "#prints the information in the .fits file (not entirely sure what all entries mean)\n",
    "#more can be found in https://lambda.gsfc.nasa.gov/common/fits_header.cfm?fitsfile=%2Fdata%2Fmap%2Fdr5%2Fskymaps%2F9yr%2Fraw%2Fwmap%5Fimap%5Fr9%5F9yr%5FK1%5Fv5%2Efits\n",
    "#tmap.info()\n",
    "\n",
    "tmap = fits.open('wmap_imap_r9_9yr_W3_v5.fits')\n",
    "#apparently the first extension of this .fits file contains the image data \n",
    "data = tmap[1].data\n",
    "\n",
    "\n",
    "\n",
    "#prints a section of the data, seems like it is a list of tuples\n",
    "\n",
    "print(data[0:5])\n",
    "\n",
    "n = len(data)-1\n",
    "\n",
    "x_val = np.empty(n)\n",
    "y_val = np.empty(n)\n",
    "for i in tqdm(range(0,n)):\n",
    "    x_val[i] = data[i][0]\n",
    "    y_val[i] = data[i][1]\n",
    "\n",
    "#supposed to plot the image data when the data is in a 2D numpy array form\n",
    "#plt.figure()\n",
    "#plt.imshow(data, cmap='gray')\n",
    "#plt.colorbar()\n",
    "\n",
    "\n",
    "#seems that the \"columns\" are temperature and number of observations (counts)\n",
    "#indicates that dataset is a counts vs temperature point cloud of the sky\n",
    "#cols = tmap[1].columns\n",
    "#cols.info()"
   ]
  },
  {
   "cell_type": "code",
   "execution_count": null,
   "metadata": {},
   "outputs": [
    {
     "data": {
      "text/plain": [
       "[<matplotlib.lines.Line2D at 0x7f0ffacae7d0>]"
      ]
     },
     "execution_count": 3,
     "metadata": {},
     "output_type": "execute_result"
    }
   ],
   "source": [
    "plt.plot(x_val, y_val,'o',color='red',alpha=0.3)"
   ]
  },
  {
   "cell_type": "code",
   "execution_count": null,
   "metadata": {},
   "outputs": [],
   "source": [
    "plt.hist(x_val[0:1000], ec='black',facecolor='orange', alpha=0.75)\n",
    "plt.xlabel('Temperature')\n",
    "plt.ylabel('Frequency')\n",
    "plt.axvline(np.mean(x_val), color='k', linestyle='dashed', linewidth=2)\n",
    "#average temparature of the universe is 2.72K"
   ]
  },
  {
   "cell_type": "code",
   "execution_count": null,
   "metadata": {},
   "outputs": [],
   "source": [
    "plt.hist(y_val[0:1000], ec='black',facecolor='blue', alpha=0.75)\n",
    "plt.xlabel('Counts')\n",
    "plt.ylabel('Frequency')\n"
   ]
  },
  {
   "cell_type": "code",
   "execution_count": null,
   "metadata": {},
   "outputs": [],
   "source": [
    "# Creates heatmap\n",
    "heatmap, xedges, yedges = np.histogram2d(x_val[0:10000],y_val[0:10000],bins=(100,100))\n",
    "#extent = [xedges[0], xedges[4], yedges[0], yedges[1000]]\n",
    "\n",
    "# Plot heatmap\n",
    "plt.clf()\n",
    "plt.title('Heatmap')\n",
    "plt.ylabel('Temperature')\n",
    "plt.xlabel('Counts')\n",
    "plt.imshow(heatmap)\n",
    "plt.show()"
   ]
  },
  {
   "cell_type": "code",
   "execution_count": null,
   "metadata": {},
   "outputs": [],
   "source": []
  }
 ],
 "metadata": {
  "kernelspec": {
   "display_name": "Python 3",
   "language": "python",
   "name": "python3"
  },
  "language_info": {
   "codemirror_mode": {
    "name": "ipython",
    "version": 3
   },
   "file_extension": ".py",
   "mimetype": "text/x-python",
   "name": "python",
   "nbconvert_exporter": "python",
   "pygments_lexer": "ipython3",
   "version": "3.7.4"
  }
 },
 "nbformat": 4,
 "nbformat_minor": 2
}
